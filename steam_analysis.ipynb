{
  "nbformat": 4,
  "nbformat_minor": 0,
  "metadata": {
    "colab": {
      "provenance": []
    },
    "kernelspec": {
      "name": "python3",
      "display_name": "Python 3"
    },
    "language_info": {
      "name": "python"
    }
  },
  "cells": [
    {
      "cell_type": "code",
      "execution_count": null,
      "metadata": {
        "colab": {
          "base_uri": "https://localhost:8080/"
        },
        "id": "yk31_9_eFvFH",
        "outputId": "175b996c-cf33-4418-f55b-542d812cdb6a"
      },
      "outputs": [
        {
          "output_type": "stream",
          "name": "stdout",
          "text": [
            "Requirement already satisfied: pandas in /usr/local/lib/python3.12/dist-packages (2.2.2)\n",
            "Requirement already satisfied: matplotlib in /usr/local/lib/python3.12/dist-packages (3.10.0)\n",
            "Requirement already satisfied: numpy in /usr/local/lib/python3.12/dist-packages (2.0.2)\n",
            "Requirement already satisfied: seaborn in /usr/local/lib/python3.12/dist-packages (0.13.2)\n",
            "Requirement already satisfied: python-dateutil>=2.8.2 in /usr/local/lib/python3.12/dist-packages (from pandas) (2.9.0.post0)\n",
            "Requirement already satisfied: pytz>=2020.1 in /usr/local/lib/python3.12/dist-packages (from pandas) (2025.2)\n",
            "Requirement already satisfied: tzdata>=2022.7 in /usr/local/lib/python3.12/dist-packages (from pandas) (2025.2)\n",
            "Requirement already satisfied: contourpy>=1.0.1 in /usr/local/lib/python3.12/dist-packages (from matplotlib) (1.3.3)\n",
            "Requirement already satisfied: cycler>=0.10 in /usr/local/lib/python3.12/dist-packages (from matplotlib) (0.12.1)\n",
            "Requirement already satisfied: fonttools>=4.22.0 in /usr/local/lib/python3.12/dist-packages (from matplotlib) (4.60.1)\n",
            "Requirement already satisfied: kiwisolver>=1.3.1 in /usr/local/lib/python3.12/dist-packages (from matplotlib) (1.4.9)\n",
            "Requirement already satisfied: packaging>=20.0 in /usr/local/lib/python3.12/dist-packages (from matplotlib) (25.0)\n",
            "Requirement already satisfied: pillow>=8 in /usr/local/lib/python3.12/dist-packages (from matplotlib) (11.3.0)\n",
            "Requirement already satisfied: pyparsing>=2.3.1 in /usr/local/lib/python3.12/dist-packages (from matplotlib) (3.2.5)\n",
            "Requirement already satisfied: six>=1.5 in /usr/local/lib/python3.12/dist-packages (from python-dateutil>=2.8.2->pandas) (1.17.0)\n"
          ]
        }
      ],
      "source": [
        "!pip install pandas matplotlib numpy seaborn"
      ]
    },
    {
      "cell_type": "code",
      "source": [
        "import pandas as pd\n",
        "import numpy as np\n",
        "# import matplotlib.plyplot as plt\n",
        "import seaborn as sns\n",
        "import re\n",
        "from textblob import TextBlob\n",
        "import warnings"
      ],
      "metadata": {
        "id": "-GWDEnp9Fz0P"
      },
      "execution_count": null,
      "outputs": []
    },
    {
      "cell_type": "code",
      "source": [
        "df = pd.read_csv(\"steam_store_data_2024.csv\")\n",
        "print(f\"Shape: {df.shape}\")"
      ],
      "metadata": {
        "colab": {
          "base_uri": "https://localhost:8080/"
        },
        "id": "tbnv63WRF4NZ",
        "outputId": "147f38a0-5bdd-40f4-8b97-f2f913b6acc1"
      },
      "execution_count": null,
      "outputs": [
        {
          "output_type": "stream",
          "name": "stdout",
          "text": [
            "Shape: (86, 6)\n"
          ]
        }
      ]
    },
    {
      "cell_type": "code",
      "source": [
        "print(df.head())"
      ],
      "metadata": {
        "colab": {
          "base_uri": "https://localhost:8080/"
        },
        "id": "zTaXMI3pGquz",
        "outputId": "e4d1ec99-0c3c-43d8-a707-f761b75e4381"
      },
      "execution_count": null,
      "outputs": [
        {
          "output_type": "stream",
          "name": "stdout",
          "text": [
            "                                               title  \\\n",
            "0                      Ori and the Will of the Wisps   \n",
            "1  Flashing Lights - Police, Firefighting, Emerge...   \n",
            "2                                         Thronefall   \n",
            "3  DRAGON QUEST® XI S: Echoes of an Elusive Age™ ...   \n",
            "4                                            UNDYING   \n",
            "\n",
            "                                         description   price salePercentage  \\\n",
            "0  Play the critically acclaimed masterpiece. Emb...   $9.89           -67%   \n",
            "1  Play solo or in up to 10-player multiplayer co...   $8.49           -66%   \n",
            "2  A minimalist game about building and defending...   $5.24           -25%   \n",
            "3  The Definitive Edition includes the critically...  $23.99           -40%   \n",
            "4  As Anling’s zombie infection sets in, her days...  $13.99           -30%   \n",
            "\n",
            "             recentReviews               allReviews  \n",
            "0  Overwhelmingly Positive  Overwhelmingly Positive  \n",
            "1            Very Positive            Very Positive  \n",
            "2  Overwhelmingly Positive  Overwhelmingly Positive  \n",
            "3            Very Positive            Very Positive  \n",
            "4          Mostly Positive          Mostly Positive  \n"
          ]
        }
      ]
    },
    {
      "cell_type": "code",
      "source": [
        "print(df.columns.tolist())"
      ],
      "metadata": {
        "colab": {
          "base_uri": "https://localhost:8080/"
        },
        "id": "UY3fFpDsGv5S",
        "outputId": "1987fcbc-7203-42f6-8e70-2b0168d56a13"
      },
      "execution_count": null,
      "outputs": [
        {
          "output_type": "stream",
          "name": "stdout",
          "text": [
            "['title', 'description', 'price', 'salePercentage', 'recentReviews', 'allReviews']\n"
          ]
        }
      ]
    },
    {
      "cell_type": "code",
      "source": [
        "print(df.info)"
      ],
      "metadata": {
        "colab": {
          "base_uri": "https://localhost:8080/"
        },
        "id": "C4Kq_ljFG0BF",
        "outputId": "a3d1a239-09fc-4b61-9e0d-da6a627f68f2"
      },
      "execution_count": null,
      "outputs": [
        {
          "output_type": "stream",
          "name": "stdout",
          "text": [
            "<bound method DataFrame.info of                                                 title  \\\n",
            "0                       Ori and the Will of the Wisps   \n",
            "1   Flashing Lights - Police, Firefighting, Emerge...   \n",
            "2                                          Thronefall   \n",
            "3   DRAGON QUEST® XI S: Echoes of an Elusive Age™ ...   \n",
            "4                                             UNDYING   \n",
            "..                                                ...   \n",
            "81                         Bendy and the Dark Revival   \n",
            "82  STAR WARS™ - The Force Unleashed™ Ultimate Sit...   \n",
            "83                                           Thymesia   \n",
            "84                                    Last Train Home   \n",
            "85                                         Fallout 76   \n",
            "\n",
            "                                          description   price salePercentage  \\\n",
            "0   Play the critically acclaimed masterpiece. Emb...   $9.89           -67%   \n",
            "1   Play solo or in up to 10-player multiplayer co...   $8.49           -66%   \n",
            "2   A minimalist game about building and defending...   $5.24           -25%   \n",
            "3   The Definitive Edition includes the critically...  $23.99           -40%   \n",
            "4   As Anling’s zombie infection sets in, her days...  $13.99           -30%   \n",
            "..                                                ...     ...            ...   \n",
            "81  Bendy and the Dark Revival® is a first-person ...   $5.99           -80%   \n",
            "82  A game that will show gamers the deepest, dark...   $6.99           -65%   \n",
            "83  Thymesia is a gruelling action-RPG with fast-p...  $14.99           -40%   \n",
            "84  The Great War is over - the fight continues. C...  $26.39           -34%   \n",
            "85  Bethesda Game Studios welcome you to Fallout 7...   $9.99           -75%   \n",
            "\n",
            "              recentReviews               allReviews  \n",
            "0   Overwhelmingly Positive  Overwhelmingly Positive  \n",
            "1             Very Positive            Very Positive  \n",
            "2   Overwhelmingly Positive  Overwhelmingly Positive  \n",
            "3             Very Positive            Very Positive  \n",
            "4           Mostly Positive          Mostly Positive  \n",
            "..                      ...                      ...  \n",
            "81            Very Positive            Very Positive  \n",
            "82            Very Positive            Very Positive  \n",
            "83            Very Positive            Very Positive  \n",
            "84            Very Positive            Very Positive  \n",
            "85          Mostly Positive          Mostly Positive  \n",
            "\n",
            "[86 rows x 6 columns]>\n"
          ]
        }
      ]
    },
    {
      "cell_type": "code",
      "source": [
        "print(df.isnull().sum())"
      ],
      "metadata": {
        "colab": {
          "base_uri": "https://localhost:8080/"
        },
        "id": "pe2c_t9jG3eK",
        "outputId": "60c9c84b-05c7-4868-8598-d00b7b282d89"
      },
      "execution_count": null,
      "outputs": [
        {
          "output_type": "stream",
          "name": "stdout",
          "text": [
            "title              0\n",
            "description        4\n",
            "price             25\n",
            "salePercentage    27\n",
            "recentReviews     29\n",
            "allReviews        29\n",
            "dtype: int64\n"
          ]
        }
      ]
    },
    {
      "cell_type": "code",
      "source": [
        "print(df.describe())"
      ],
      "metadata": {
        "colab": {
          "base_uri": "https://localhost:8080/"
        },
        "id": "WnlYBQa-HyTV",
        "outputId": "193fcd09-0694-432e-d0b1-b40c1b189e3c"
      },
      "execution_count": null,
      "outputs": [
        {
          "output_type": "stream",
          "name": "stdout",
          "text": [
            "                                title  \\\n",
            "count                              86   \n",
            "unique                             75   \n",
            "top     Ori and the Will of the Wisps   \n",
            "freq                                2   \n",
            "\n",
            "                                              description   price  \\\n",
            "count                                                  82      61   \n",
            "unique                                                 71      34   \n",
            "top     Play the critically acclaimed masterpiece. Emb...  $23.99   \n",
            "freq                                                    2       6   \n",
            "\n",
            "       salePercentage  recentReviews     allReviews  \n",
            "count              59             57             57  \n",
            "unique             17              5              5  \n",
            "top              -40%  Very Positive  Very Positive  \n",
            "freq               10             40             40  \n"
          ]
        }
      ]
    },
    {
      "cell_type": "code",
      "source": [
        "print(df['recentReviews'].value_counts())"
      ],
      "metadata": {
        "colab": {
          "base_uri": "https://localhost:8080/"
        },
        "id": "3ut1ZnQXH5Sn",
        "outputId": "f7ba6292-1ef3-411c-aa65-a75ddbd5f2bf"
      },
      "execution_count": null,
      "outputs": [
        {
          "output_type": "stream",
          "name": "stdout",
          "text": [
            "recentReviews\n",
            "Very Positive              40\n",
            "Mostly Positive             8\n",
            "Overwhelmingly Positive     7\n",
            "Mixed                       1\n",
            "Mostly Negative             1\n",
            "Name: count, dtype: int64\n"
          ]
        }
      ]
    },
    {
      "cell_type": "markdown",
      "source": [
        "## Data Cleaning\n"
      ],
      "metadata": {
        "id": "ut1VntX2Ic2I"
      }
    },
    {
      "cell_type": "code",
      "source": [
        "print(\"before cleaning: \", df.shape)\n",
        "df_clean = df.copy() # copy before cleaning"
      ],
      "metadata": {
        "colab": {
          "base_uri": "https://localhost:8080/"
        },
        "id": "6g0qee1gI_DM",
        "outputId": "5722c2bd-1a20-4852-dc2e-4f0e1a855d82"
      },
      "execution_count": null,
      "outputs": [
        {
          "output_type": "stream",
          "name": "stdout",
          "text": [
            "before cleaning:  (86, 6)\n"
          ]
        }
      ]
    },
    {
      "cell_type": "code",
      "source": [
        "def clean_price(p):\n",
        "  if pd.isna(p) or not isinstance(p, str):\n",
        "    return np.nan\n",
        "\n",
        "  p = p.replace(\"$\", \"\").strip()\n",
        "  try:\n",
        "    return float(p)\n",
        "  except:\n",
        "    return np.nan\n",
        "\n",
        "# cleaning price from \"$\"\n",
        "df['price_clean'] = df['price'].apply(clean_price)\n",
        "\n",
        "def clean_sale(s):\n",
        "  if pd.isna(s) or not isinstance(s, str):\n",
        "    return 0\n",
        "  s = s.replace(\"%\", \"\").replace(\"-\", \"\").strip()\n",
        "  try:\n",
        "    return float(s)\n",
        "  except:\n",
        "    return 0\n",
        "\n",
        "# cleaning sale from \"%\"\n",
        "df[\"sale_clean\"] = df[\"salePercentage\"].apply(clean_sale)"
      ],
      "metadata": {
        "id": "p3gGaBQsIfoP"
      },
      "execution_count": null,
      "outputs": []
    },
    {
      "cell_type": "code",
      "source": [
        "# price after discount\n",
        "df[\"effective_price\"] = df[\"price_clean\"] * (1-df[\"sale_clean\"] / 100)"
      ],
      "metadata": {
        "id": "0K89EJ7KJ4t5"
      },
      "execution_count": null,
      "outputs": []
    },
    {
      "cell_type": "code",
      "source": [
        "# turning labels to numbers for analysis (to calc avgs/trends)\n",
        "sentiment_map = {\n",
        "    \"Overwhelmingly Positive\": 5,\n",
        "    \"Very Positive\": 4,\n",
        "    \"Mostly Positive\": 3,\n",
        "    \"Mixed\": 2,\n",
        "    \"Mostly Negative\": 1,\n",
        "    \"Very Negative\": 0\n",
        "}\n",
        "\n",
        "df[\"recent_reviews_score\"] = df[\"recentReviews\"].map(sentiment_map)"
      ],
      "metadata": {
        "id": "RRSEkUqjKloi"
      },
      "execution_count": null,
      "outputs": []
    },
    {
      "cell_type": "code",
      "source": [
        "# creating price + discount buckets\n",
        "df[\"price_bucket\"] = pd.cut(df[\"price_clean\"],\n",
        "                            bins = [0, 5, 15, 30, 60, np.inf],\n",
        "                            labels=[\"<$5\", \"$5-15\", \"$15-30\", \"$30-60\", \"$60+\"])\n",
        "\n",
        "df[\"discount_bucket\"] = pd.cut(df[\"sale_clean\"],\n",
        "                               bins=[-1, 0, 25, 50, 75, 100],\n",
        "                               labels=[\"No Sale\", \"1-25%\", \"25-50%\", \"50-75%\", \"75-100%+\"])\n"
      ],
      "metadata": {
        "id": "UkCwRaPTK9O3"
      },
      "execution_count": null,
      "outputs": []
    },
    {
      "cell_type": "code",
      "source": [
        "df_clean = df.dropna(subset=[\"price_clean\", \"recent_reviews_score\"])"
      ],
      "metadata": {
        "id": "y_wobHQILXLT"
      },
      "execution_count": null,
      "outputs": []
    },
    {
      "cell_type": "code",
      "source": [
        "df_clean.to_csv(\"steam_clean.csv\", index=False)"
      ],
      "metadata": {
        "id": "ZQmLibQ4MDFY"
      },
      "execution_count": null,
      "outputs": []
    },
    {
      "cell_type": "code",
      "source": [],
      "metadata": {
        "id": "KIWZA5kHOc-H"
      },
      "execution_count": null,
      "outputs": []
    },
    {
      "cell_type": "markdown",
      "source": [
        "```sql\n",
        "-- Query to see if deeper discounts lead to higher review sentiment\n",
        "SELECT\n",
        "  discount_bucket,\n",
        "  ROUND(AVG(recent_reviews_score), 2) AS avg_sentiment,\n",
        "  COUNT(*) AS sample_size\n",
        "FROM steam_clean\n",
        "GROUP BY discount_bucket\n",
        "ORDER BY\n",
        "  CASE discount_bucket\n",
        "    WHEN 'No Sale' THEN 1\n",
        "    WHEN '1–25%' THEN 2\n",
        "    WHEN '25–50%' THEN 3\n",
        "    WHEN '50–75%' THEN 4\n",
        "    WHEN '75–100%' THEN 5\n",
        "  END;\n",
        "\n",
        "```"
      ],
      "metadata": {
        "id": "3esA2UqkOeO0"
      }
    },
    {
      "cell_type": "markdown",
      "source": [
        "```sql\n",
        "-- Does the relationship between discounts and sentiment differ across price buckets?\n",
        "\n",
        "SELECT\n",
        "  price_bucket,\n",
        "  discount_bucket,\n",
        "  ROUND(AVG(recent_reviews_score), 2) AS avg_sentiment,\n",
        "  COUNT(*) AS sample_size\n",
        "FROM steam_clean\n",
        "GROUP BY price_bucket, discount_bucket\n",
        "ORDER BY\n",
        "  CASE price_bucket\n",
        "    WHEN '<$5'   THEN 1\n",
        "    WHEN '$5-15' THEN 2\n",
        "    WHEN '$15-30' THEN 3\n",
        "    WHEN '$30-60' THEN 4\n",
        "    WHEN '$60+'  THEN 5\n",
        "  END,\n",
        "  CASE discount_bucket\n",
        "    WHEN 'No Sale' THEN 1\n",
        "    WHEN '1–25%' THEN 2\n",
        "    WHEN '25–50%' THEN 3\n",
        "    WHEN '50–75%' THEN 4\n",
        "    WHEN '75–100%' THEN 5\n",
        "  END;\n",
        "\n",
        "\n",
        "```\n"
      ],
      "metadata": {
        "id": "cetGwC8ZOuAD"
      }
    },
    {
      "cell_type": "code",
      "source": [],
      "metadata": {
        "id": "R8z6KvxZOexv"
      },
      "execution_count": null,
      "outputs": []
    }
  ]
}