{
  "nbformat": 4,
  "nbformat_minor": 0,
  "metadata": {
    "colab": {
      "provenance": []
    },
    "kernelspec": {
      "name": "python3",
      "display_name": "Python 3"
    },
    "language_info": {
      "name": "python"
    }
  },
  "cells": [
    {
      "cell_type": "code",
      "execution_count": 4,
      "metadata": {
        "colab": {
          "base_uri": "https://localhost:8080/"
        },
        "id": "yk31_9_eFvFH",
        "outputId": "9a08a0dd-d2da-47ca-c126-efd9aa1ba5e5"
      },
      "outputs": [
        {
          "output_type": "stream",
          "name": "stdout",
          "text": [
            "Requirement already satisfied: pandas in /usr/local/lib/python3.12/dist-packages (2.2.2)\n",
            "Requirement already satisfied: matplotlib in /usr/local/lib/python3.12/dist-packages (3.10.0)\n",
            "Requirement already satisfied: numpy in /usr/local/lib/python3.12/dist-packages (2.0.2)\n",
            "Requirement already satisfied: seaborn in /usr/local/lib/python3.12/dist-packages (0.13.2)\n",
            "Requirement already satisfied: python-dateutil>=2.8.2 in /usr/local/lib/python3.12/dist-packages (from pandas) (2.9.0.post0)\n",
            "Requirement already satisfied: pytz>=2020.1 in /usr/local/lib/python3.12/dist-packages (from pandas) (2025.2)\n",
            "Requirement already satisfied: tzdata>=2022.7 in /usr/local/lib/python3.12/dist-packages (from pandas) (2025.2)\n",
            "Requirement already satisfied: contourpy>=1.0.1 in /usr/local/lib/python3.12/dist-packages (from matplotlib) (1.3.3)\n",
            "Requirement already satisfied: cycler>=0.10 in /usr/local/lib/python3.12/dist-packages (from matplotlib) (0.12.1)\n",
            "Requirement already satisfied: fonttools>=4.22.0 in /usr/local/lib/python3.12/dist-packages (from matplotlib) (4.60.1)\n",
            "Requirement already satisfied: kiwisolver>=1.3.1 in /usr/local/lib/python3.12/dist-packages (from matplotlib) (1.4.9)\n",
            "Requirement already satisfied: packaging>=20.0 in /usr/local/lib/python3.12/dist-packages (from matplotlib) (25.0)\n",
            "Requirement already satisfied: pillow>=8 in /usr/local/lib/python3.12/dist-packages (from matplotlib) (11.3.0)\n",
            "Requirement already satisfied: pyparsing>=2.3.1 in /usr/local/lib/python3.12/dist-packages (from matplotlib) (3.2.5)\n",
            "Requirement already satisfied: six>=1.5 in /usr/local/lib/python3.12/dist-packages (from python-dateutil>=2.8.2->pandas) (1.17.0)\n"
          ]
        }
      ],
      "source": [
        "!pip install pandas matplotlib numpy seaborn"
      ]
    },
    {
      "cell_type": "code",
      "source": [
        "import pandas as pd\n",
        "import numpy as np\n",
        "# import matplotlib.plyplot as plt\n",
        "import seaborn as sns\n",
        "import re\n",
        "from textblob import TextBlob\n",
        "import warnings"
      ],
      "metadata": {
        "id": "-GWDEnp9Fz0P"
      },
      "execution_count": 6,
      "outputs": []
    },
    {
      "cell_type": "code",
      "source": [
        "df = pd.read_csv(\"steam_store_data_2024.csv\")\n",
        "print(f\"Shape: {df.shape}\")"
      ],
      "metadata": {
        "colab": {
          "base_uri": "https://localhost:8080/"
        },
        "id": "tbnv63WRF4NZ",
        "outputId": "26d6b0c2-7860-4cee-b524-9a0bb30713af"
      },
      "execution_count": 7,
      "outputs": [
        {
          "output_type": "stream",
          "name": "stdout",
          "text": [
            "Shape: (86, 6)\n"
          ]
        }
      ]
    },
    {
      "cell_type": "code",
      "source": [
        "print(df.head())"
      ],
      "metadata": {
        "colab": {
          "base_uri": "https://localhost:8080/"
        },
        "id": "zTaXMI3pGquz",
        "outputId": "674bda33-caf0-49c1-d7aa-92eed965ae3c"
      },
      "execution_count": 8,
      "outputs": [
        {
          "output_type": "stream",
          "name": "stdout",
          "text": [
            "                                               title  \\\n",
            "0                      Ori and the Will of the Wisps   \n",
            "1  Flashing Lights - Police, Firefighting, Emerge...   \n",
            "2                                         Thronefall   \n",
            "3  DRAGON QUEST® XI S: Echoes of an Elusive Age™ ...   \n",
            "4                                            UNDYING   \n",
            "\n",
            "                                         description   price salePercentage  \\\n",
            "0  Play the critically acclaimed masterpiece. Emb...   $9.89           -67%   \n",
            "1  Play solo or in up to 10-player multiplayer co...   $8.49           -66%   \n",
            "2  A minimalist game about building and defending...   $5.24           -25%   \n",
            "3  The Definitive Edition includes the critically...  $23.99           -40%   \n",
            "4  As Anling’s zombie infection sets in, her days...  $13.99           -30%   \n",
            "\n",
            "             recentReviews               allReviews  \n",
            "0  Overwhelmingly Positive  Overwhelmingly Positive  \n",
            "1            Very Positive            Very Positive  \n",
            "2  Overwhelmingly Positive  Overwhelmingly Positive  \n",
            "3            Very Positive            Very Positive  \n",
            "4          Mostly Positive          Mostly Positive  \n"
          ]
        }
      ]
    },
    {
      "cell_type": "code",
      "source": [
        "print(df.columns.tolist())"
      ],
      "metadata": {
        "colab": {
          "base_uri": "https://localhost:8080/"
        },
        "id": "UY3fFpDsGv5S",
        "outputId": "f6162c07-b7d0-447d-d1eb-5305e2e8c708"
      },
      "execution_count": 9,
      "outputs": [
        {
          "output_type": "stream",
          "name": "stdout",
          "text": [
            "['title', 'description', 'price', 'salePercentage', 'recentReviews', 'allReviews']\n"
          ]
        }
      ]
    },
    {
      "cell_type": "code",
      "source": [
        "print(df.info)"
      ],
      "metadata": {
        "colab": {
          "base_uri": "https://localhost:8080/"
        },
        "id": "C4Kq_ljFG0BF",
        "outputId": "4739645a-0a5e-4e27-c35c-bccc6ca9b2c7"
      },
      "execution_count": 10,
      "outputs": [
        {
          "output_type": "stream",
          "name": "stdout",
          "text": [
            "<bound method DataFrame.info of                                                 title  \\\n",
            "0                       Ori and the Will of the Wisps   \n",
            "1   Flashing Lights - Police, Firefighting, Emerge...   \n",
            "2                                          Thronefall   \n",
            "3   DRAGON QUEST® XI S: Echoes of an Elusive Age™ ...   \n",
            "4                                             UNDYING   \n",
            "..                                                ...   \n",
            "81                         Bendy and the Dark Revival   \n",
            "82  STAR WARS™ - The Force Unleashed™ Ultimate Sit...   \n",
            "83                                           Thymesia   \n",
            "84                                    Last Train Home   \n",
            "85                                         Fallout 76   \n",
            "\n",
            "                                          description   price salePercentage  \\\n",
            "0   Play the critically acclaimed masterpiece. Emb...   $9.89           -67%   \n",
            "1   Play solo or in up to 10-player multiplayer co...   $8.49           -66%   \n",
            "2   A minimalist game about building and defending...   $5.24           -25%   \n",
            "3   The Definitive Edition includes the critically...  $23.99           -40%   \n",
            "4   As Anling’s zombie infection sets in, her days...  $13.99           -30%   \n",
            "..                                                ...     ...            ...   \n",
            "81  Bendy and the Dark Revival® is a first-person ...   $5.99           -80%   \n",
            "82  A game that will show gamers the deepest, dark...   $6.99           -65%   \n",
            "83  Thymesia is a gruelling action-RPG with fast-p...  $14.99           -40%   \n",
            "84  The Great War is over - the fight continues. C...  $26.39           -34%   \n",
            "85  Bethesda Game Studios welcome you to Fallout 7...   $9.99           -75%   \n",
            "\n",
            "              recentReviews               allReviews  \n",
            "0   Overwhelmingly Positive  Overwhelmingly Positive  \n",
            "1             Very Positive            Very Positive  \n",
            "2   Overwhelmingly Positive  Overwhelmingly Positive  \n",
            "3             Very Positive            Very Positive  \n",
            "4           Mostly Positive          Mostly Positive  \n",
            "..                      ...                      ...  \n",
            "81            Very Positive            Very Positive  \n",
            "82            Very Positive            Very Positive  \n",
            "83            Very Positive            Very Positive  \n",
            "84            Very Positive            Very Positive  \n",
            "85          Mostly Positive          Mostly Positive  \n",
            "\n",
            "[86 rows x 6 columns]>\n"
          ]
        }
      ]
    },
    {
      "cell_type": "code",
      "source": [
        "print(df.isnull().sum())"
      ],
      "metadata": {
        "colab": {
          "base_uri": "https://localhost:8080/"
        },
        "id": "pe2c_t9jG3eK",
        "outputId": "9ee77f08-d516-448d-e571-1f92e92a6e9c"
      },
      "execution_count": 11,
      "outputs": [
        {
          "output_type": "stream",
          "name": "stdout",
          "text": [
            "title              0\n",
            "description        4\n",
            "price             25\n",
            "salePercentage    27\n",
            "recentReviews     29\n",
            "allReviews        29\n",
            "dtype: int64\n"
          ]
        }
      ]
    },
    {
      "cell_type": "code",
      "source": [
        "print(df.describe())"
      ],
      "metadata": {
        "colab": {
          "base_uri": "https://localhost:8080/"
        },
        "id": "WnlYBQa-HyTV",
        "outputId": "ff1468cd-d4c7-41bc-ea53-7ef905265fa8"
      },
      "execution_count": 12,
      "outputs": [
        {
          "output_type": "stream",
          "name": "stdout",
          "text": [
            "                                title  \\\n",
            "count                              86   \n",
            "unique                             75   \n",
            "top     Ori and the Will of the Wisps   \n",
            "freq                                2   \n",
            "\n",
            "                                              description   price  \\\n",
            "count                                                  82      61   \n",
            "unique                                                 71      34   \n",
            "top     Play the critically acclaimed masterpiece. Emb...  $23.99   \n",
            "freq                                                    2       6   \n",
            "\n",
            "       salePercentage  recentReviews     allReviews  \n",
            "count              59             57             57  \n",
            "unique             17              5              5  \n",
            "top              -40%  Very Positive  Very Positive  \n",
            "freq               10             40             40  \n"
          ]
        }
      ]
    },
    {
      "cell_type": "code",
      "source": [
        "print(df['recentReviews'].value_counts())"
      ],
      "metadata": {
        "colab": {
          "base_uri": "https://localhost:8080/"
        },
        "id": "3ut1ZnQXH5Sn",
        "outputId": "e1ac77f9-7663-4cd6-c2b5-5661af60fbb1"
      },
      "execution_count": 14,
      "outputs": [
        {
          "output_type": "stream",
          "name": "stdout",
          "text": [
            "recentReviews\n",
            "Very Positive              40\n",
            "Mostly Positive             8\n",
            "Overwhelmingly Positive     7\n",
            "Mixed                       1\n",
            "Mostly Negative             1\n",
            "Name: count, dtype: int64\n"
          ]
        }
      ]
    }
  ]
}